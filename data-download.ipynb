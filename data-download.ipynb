{
 "cells": [
  {
   "cell_type": "code",
   "execution_count": 2,
   "metadata": {},
   "outputs": [],
   "source": [
    "import pandas as pd\n",
    "import numpy as np\n",
    "import statsmodels.api as sm\n",
    "from sklearn.linear_model import QuantileRegressor\n",
    "\n",
    "import matplotlib.pyplot as plt\n",
    "import matplotlib.ticker as mtick\n",
    "\n",
    "import requests\n",
    "from bs4 import BeautifulSoup\n",
    "import io\n",
    "\n",
    "import eurostat"
   ]
  },
  {
   "cell_type": "code",
   "execution_count": 3,
   "metadata": {},
   "outputs": [],
   "source": [
    "def data_eurostat(code, filter_pars, var_name, pct_change = False):\n",
    "\n",
    "    data = eurostat.get_data_df(code, filter_pars = filter_pars)\n",
    "\n",
    "    data = data \\\n",
    "            .filter(regex = '\\\\d{4}').T \\\n",
    "            .rename(columns = {0: var_name})\n",
    "\n",
    "    data.index = pd.to_datetime(data.index)\n",
    "\n",
    "    data = data \\\n",
    "            .to_period('M') \\\n",
    "            .replace('None', np.NaN) \\\n",
    "            .resample('Q') \\\n",
    "            .mean()\n",
    "\n",
    "    if pct_change == True:\n",
    "        data = data.pct_change()\n",
    "\n",
    "    data.dropna(inplace = True)\n",
    "\n",
    "    return data\n",
    "\n",
    "## These lines of code are helpful to discover the parameters in a table as well as the values for each parameter in the table\n",
    "# pars = eurostat.get_pars(code) \n",
    "# par_values = eurostat.get_par_values(code, 'geo')"
   ]
  },
  {
   "attachments": {},
   "cell_type": "markdown",
   "metadata": {},
   "source": [
    "### DATA: CORE HICP [EUROSTAT]"
   ]
  },
  {
   "cell_type": "code",
   "execution_count": 4,
   "metadata": {},
   "outputs": [
    {
     "data": {
      "text/html": [
       "<div>\n",
       "<style scoped>\n",
       "    .dataframe tbody tr th:only-of-type {\n",
       "        vertical-align: middle;\n",
       "    }\n",
       "\n",
       "    .dataframe tbody tr th {\n",
       "        vertical-align: top;\n",
       "    }\n",
       "\n",
       "    .dataframe thead th {\n",
       "        text-align: right;\n",
       "    }\n",
       "</style>\n",
       "<table border=\"1\" class=\"dataframe\">\n",
       "  <thead>\n",
       "    <tr style=\"text-align: right;\">\n",
       "      <th></th>\n",
       "      <th>core_hicp</th>\n",
       "    </tr>\n",
       "  </thead>\n",
       "  <tbody>\n",
       "    <tr>\n",
       "      <th>2022Q2</th>\n",
       "      <td>0.024363</td>\n",
       "    </tr>\n",
       "    <tr>\n",
       "      <th>2022Q3</th>\n",
       "      <td>0.008321</td>\n",
       "    </tr>\n",
       "    <tr>\n",
       "      <th>2022Q4</th>\n",
       "      <td>0.015695</td>\n",
       "    </tr>\n",
       "  </tbody>\n",
       "</table>\n",
       "</div>"
      ],
      "text/plain": [
       "        core_hicp\n",
       "2022Q2   0.024363\n",
       "2022Q3   0.008321\n",
       "2022Q4   0.015695"
      ]
     },
     "execution_count": 4,
     "metadata": {},
     "output_type": "execute_result"
    }
   ],
   "source": [
    "code = 'prc_hicp_midx'\n",
    "filter_pars = {'unit': 'I15', 'coicop': 'TOT_X_NRG_FOOD', 'geo': 'EA'}\n",
    "\n",
    "data_hicp = data_eurostat(code, filter_pars, 'core_hicp', pct_change=True)\n",
    "data_hicp.tail(3)"
   ]
  },
  {
   "attachments": {},
   "cell_type": "markdown",
   "metadata": {},
   "source": [
    "### DATA: LONG-TERM INFLATION EXPECTATIONS (SPF - LONG TERM - MEAN) [ECB]"
   ]
  },
  {
   "cell_type": "code",
   "execution_count": 5,
   "metadata": {},
   "outputs": [],
   "source": [
    "## Source: https://www.pythonsherpa.com/static/files/html/ECB%20-%20Open%20Data.html\n",
    "\n",
    "# Blocs for the URL\n",
    "entrypoint = 'https://sdw-wsrest.ecb.europa.eu/service/'\n",
    "resource = 'data'\n",
    "flowRef = 'SPF'\n",
    "key = 'Q.U2.HICP.POINT.LT.Q.AVG'\n",
    "\n",
    "request_url = entrypoint + resource + '/' + flowRef + '/' + key\n",
    "\n",
    "response = requests.get(request_url, headers={'Accept': 'text/csv'})"
   ]
  },
  {
   "cell_type": "code",
   "execution_count": 6,
   "metadata": {},
   "outputs": [
    {
     "data": {
      "text/html": [
       "<div>\n",
       "<style scoped>\n",
       "    .dataframe tbody tr th:only-of-type {\n",
       "        vertical-align: middle;\n",
       "    }\n",
       "\n",
       "    .dataframe tbody tr th {\n",
       "        vertical-align: top;\n",
       "    }\n",
       "\n",
       "    .dataframe thead th {\n",
       "        text-align: right;\n",
       "    }\n",
       "</style>\n",
       "<table border=\"1\" class=\"dataframe\">\n",
       "  <thead>\n",
       "    <tr style=\"text-align: right;\">\n",
       "      <th></th>\n",
       "      <th>spf_long_mean</th>\n",
       "    </tr>\n",
       "  </thead>\n",
       "  <tbody>\n",
       "    <tr>\n",
       "      <th>2022Q2</th>\n",
       "      <td>2.051986</td>\n",
       "    </tr>\n",
       "    <tr>\n",
       "      <th>2022Q3</th>\n",
       "      <td>2.152314</td>\n",
       "    </tr>\n",
       "    <tr>\n",
       "      <th>2022Q4</th>\n",
       "      <td>2.175381</td>\n",
       "    </tr>\n",
       "  </tbody>\n",
       "</table>\n",
       "</div>"
      ],
      "text/plain": [
       "        spf_long_mean\n",
       "2022Q2       2.051986\n",
       "2022Q3       2.152314\n",
       "2022Q4       2.175381"
      ]
     },
     "execution_count": 6,
     "metadata": {},
     "output_type": "execute_result"
    }
   ],
   "source": [
    "data_lte = pd.read_csv(io.StringIO(response.text))[['TIME_PERIOD', 'OBS_VALUE']] \\\n",
    "            .set_index('TIME_PERIOD') \\\n",
    "            .rename(columns = {'OBS_VALUE': 'spf_long_mean'})\n",
    "\n",
    "data_lte.index.name = None\n",
    "data_lte.index = pd.to_datetime(data_lte.index) \\\n",
    "                    .to_period()\n",
    "\n",
    "data_lte.tail(3)"
   ]
  },
  {
   "attachments": {},
   "cell_type": "markdown",
   "metadata": {},
   "source": [
    "### DATA: UNEMPLOYMENT RATE [EUROSTAT]"
   ]
  },
  {
   "cell_type": "code",
   "execution_count": 7,
   "metadata": {},
   "outputs": [
    {
     "data": {
      "text/html": [
       "<div>\n",
       "<style scoped>\n",
       "    .dataframe tbody tr th:only-of-type {\n",
       "        vertical-align: middle;\n",
       "    }\n",
       "\n",
       "    .dataframe tbody tr th {\n",
       "        vertical-align: top;\n",
       "    }\n",
       "\n",
       "    .dataframe thead th {\n",
       "        text-align: right;\n",
       "    }\n",
       "</style>\n",
       "<table border=\"1\" class=\"dataframe\">\n",
       "  <thead>\n",
       "    <tr style=\"text-align: right;\">\n",
       "      <th></th>\n",
       "      <th>unemployment</th>\n",
       "    </tr>\n",
       "  </thead>\n",
       "  <tbody>\n",
       "    <tr>\n",
       "      <th>2022Q2</th>\n",
       "      <td>6.700000</td>\n",
       "    </tr>\n",
       "    <tr>\n",
       "      <th>2022Q3</th>\n",
       "      <td>6.633333</td>\n",
       "    </tr>\n",
       "    <tr>\n",
       "      <th>2022Q4</th>\n",
       "      <td>6.500000</td>\n",
       "    </tr>\n",
       "  </tbody>\n",
       "</table>\n",
       "</div>"
      ],
      "text/plain": [
       "        unemployment\n",
       "2022Q2      6.700000\n",
       "2022Q3      6.633333\n",
       "2022Q4      6.500000"
      ]
     },
     "execution_count": 7,
     "metadata": {},
     "output_type": "execute_result"
    }
   ],
   "source": [
    "code = 'ei_lmhr_m'\n",
    "filter_pars = {'s_adj': 'SA', 'indic': 'LM-UN-T-TOT', 'geo': 'EA19'}\n",
    "\n",
    "data_unemp = data_eurostat(code, filter_pars, 'unemployment')\n",
    "data_unemp.tail(3)"
   ]
  },
  {
   "attachments": {},
   "cell_type": "markdown",
   "metadata": {},
   "source": [
    "### DATA: NATURAL RATE OF UNEMPLOYMENT (CALCULATED)"
   ]
  },
  {
   "cell_type": "code",
   "execution_count": 8,
   "metadata": {},
   "outputs": [
    {
     "data": {
      "text/html": [
       "<div>\n",
       "<style scoped>\n",
       "    .dataframe tbody tr th:only-of-type {\n",
       "        vertical-align: middle;\n",
       "    }\n",
       "\n",
       "    .dataframe tbody tr th {\n",
       "        vertical-align: top;\n",
       "    }\n",
       "\n",
       "    .dataframe thead th {\n",
       "        text-align: right;\n",
       "    }\n",
       "</style>\n",
       "<table border=\"1\" class=\"dataframe\">\n",
       "  <thead>\n",
       "    <tr style=\"text-align: right;\">\n",
       "      <th></th>\n",
       "      <th>nairu</th>\n",
       "    </tr>\n",
       "  </thead>\n",
       "  <tbody>\n",
       "    <tr>\n",
       "      <th>2022Q2</th>\n",
       "      <td>6.882222</td>\n",
       "    </tr>\n",
       "    <tr>\n",
       "      <th>2022Q3</th>\n",
       "      <td>6.769818</td>\n",
       "    </tr>\n",
       "    <tr>\n",
       "      <th>2022Q4</th>\n",
       "      <td>6.657316</td>\n",
       "    </tr>\n",
       "  </tbody>\n",
       "</table>\n",
       "</div>"
      ],
      "text/plain": [
       "           nairu\n",
       "2022Q2  6.882222\n",
       "2022Q3  6.769818\n",
       "2022Q4  6.657316"
      ]
     },
     "execution_count": 8,
     "metadata": {},
     "output_type": "execute_result"
    }
   ],
   "source": [
    "_, data_nairu = sm.tsa.filters.hpfilter(data_unemp, 1600)\n",
    "\n",
    "data_nairu = data_nairu \\\n",
    "                .to_frame() \\\n",
    "                .rename(columns = {'trend': 'nairu'})\n",
    "\n",
    "data_nairu.tail(3)"
   ]
  },
  {
   "attachments": {},
   "cell_type": "markdown",
   "metadata": {},
   "source": [
    "### DATA IMPORT PRICES (ALL GOODS, EXTRA-EA COUNTRIES) [EUROSTAT]"
   ]
  },
  {
   "cell_type": "code",
   "execution_count": 9,
   "metadata": {},
   "outputs": [
    {
     "data": {
      "text/html": [
       "<div>\n",
       "<style scoped>\n",
       "    .dataframe tbody tr th:only-of-type {\n",
       "        vertical-align: middle;\n",
       "    }\n",
       "\n",
       "    .dataframe tbody tr th {\n",
       "        vertical-align: top;\n",
       "    }\n",
       "\n",
       "    .dataframe thead th {\n",
       "        text-align: right;\n",
       "    }\n",
       "</style>\n",
       "<table border=\"1\" class=\"dataframe\">\n",
       "  <thead>\n",
       "    <tr style=\"text-align: right;\">\n",
       "      <th></th>\n",
       "      <th>p_imported</th>\n",
       "    </tr>\n",
       "  </thead>\n",
       "  <tbody>\n",
       "    <tr>\n",
       "      <th>2022Q2</th>\n",
       "      <td>0.071992</td>\n",
       "    </tr>\n",
       "    <tr>\n",
       "      <th>2022Q3</th>\n",
       "      <td>0.042615</td>\n",
       "    </tr>\n",
       "    <tr>\n",
       "      <th>2022Q4</th>\n",
       "      <td>-0.006206</td>\n",
       "    </tr>\n",
       "  </tbody>\n",
       "</table>\n",
       "</div>"
      ],
      "text/plain": [
       "        p_imported\n",
       "2022Q2    0.071992\n",
       "2022Q3    0.042615\n",
       "2022Q4   -0.006206"
      ]
     },
     "execution_count": 9,
     "metadata": {},
     "output_type": "execute_result"
    }
   ],
   "source": [
    "code = 'ei_etea19_m'\n",
    "filter_pars = {'stk_flow': 'IMP', 'unit': 'IVU-NSA', 'indic': 'ET-T', 'geo': 'EA19'}\n",
    "var_name = 'p_imported'\n",
    "\n",
    "data_imp = data_eurostat(code, filter_pars, var_name, pct_change=True)\n",
    "data_imp.tail(3)"
   ]
  },
  {
   "attachments": {},
   "cell_type": "markdown",
   "metadata": {},
   "source": [
    "### DATA: OIL PRICES [EIA]"
   ]
  },
  {
   "cell_type": "code",
   "execution_count": 10,
   "metadata": {},
   "outputs": [
    {
     "data": {
      "text/html": [
       "<div>\n",
       "<style scoped>\n",
       "    .dataframe tbody tr th:only-of-type {\n",
       "        vertical-align: middle;\n",
       "    }\n",
       "\n",
       "    .dataframe tbody tr th {\n",
       "        vertical-align: top;\n",
       "    }\n",
       "\n",
       "    .dataframe thead th {\n",
       "        text-align: right;\n",
       "    }\n",
       "</style>\n",
       "<table border=\"1\" class=\"dataframe\">\n",
       "  <thead>\n",
       "    <tr style=\"text-align: right;\">\n",
       "      <th></th>\n",
       "      <th>brent</th>\n",
       "    </tr>\n",
       "    <tr>\n",
       "      <th></th>\n",
       "      <th></th>\n",
       "    </tr>\n",
       "  </thead>\n",
       "  <tbody>\n",
       "    <tr>\n",
       "      <th>2022Q3</th>\n",
       "      <td>100.708125</td>\n",
       "    </tr>\n",
       "    <tr>\n",
       "      <th>2022Q4</th>\n",
       "      <td>88.723651</td>\n",
       "    </tr>\n",
       "    <tr>\n",
       "      <th>2023Q1</th>\n",
       "      <td>79.897273</td>\n",
       "    </tr>\n",
       "  </tbody>\n",
       "</table>\n",
       "</div>"
      ],
      "text/plain": [
       "             brent\n",
       "                  \n",
       "2022Q3  100.708125\n",
       "2022Q4   88.723651\n",
       "2023Q1   79.897273"
      ]
     },
     "execution_count": 10,
     "metadata": {},
     "output_type": "execute_result"
    }
   ],
   "source": [
    "url = 'https://www.eia.gov/dnav/pet/hist_xls/RBRTEd.xls'\n",
    "\n",
    "data_oil = pd.read_excel(url, sheet_name='Data 1', header=2, index_col=0)\n",
    "data_oil.rename(columns={data_oil.columns[0]: 'brent'}, inplace=True)\n",
    "data_oil = data_oil \\\n",
    "            .resample('Q').mean() \\\n",
    "            .to_period()\n",
    "data_oil.index.name = \"\"\n",
    "data_oil.tail(3)"
   ]
  },
  {
   "attachments": {},
   "cell_type": "markdown",
   "metadata": {},
   "source": [
    "### DATA: CREDIT SPREADS [BANQUE DE FRANCE]"
   ]
  },
  {
   "cell_type": "code",
   "execution_count": 11,
   "metadata": {},
   "outputs": [
    {
     "name": "stdout",
     "output_type": "stream",
     "text": [
      "https://publications.banque-france.fr/sites/default/files/media/2022/10/07/gm_ea_credit_risk_indicators.xlsx\n"
     ]
    }
   ],
   "source": [
    "url_bdf = 'https://publications.banque-france.fr'\n",
    "url_page = '/en/economic-and-financial-publications-working-papers/credit-risk-euro-area'\n",
    "page = requests.get(url_bdf + url_page)\n",
    "\n",
    "soup = BeautifulSoup(page.content, 'html.parser')\n",
    "url_file = soup.find('div', attrs = {'class': 'bt-consulter clearfix'}).find('a')['href']\n",
    "url_file = url_bdf + url_file\n",
    "print(url_file)"
   ]
  },
  {
   "cell_type": "code",
   "execution_count": 12,
   "metadata": {},
   "outputs": [
    {
     "data": {
      "text/html": [
       "<div>\n",
       "<style scoped>\n",
       "    .dataframe tbody tr th:only-of-type {\n",
       "        vertical-align: middle;\n",
       "    }\n",
       "\n",
       "    .dataframe tbody tr th {\n",
       "        vertical-align: top;\n",
       "    }\n",
       "\n",
       "    .dataframe thead th {\n",
       "        text-align: right;\n",
       "    }\n",
       "</style>\n",
       "<table border=\"1\" class=\"dataframe\">\n",
       "  <thead>\n",
       "    <tr style=\"text-align: right;\">\n",
       "      <th></th>\n",
       "      <th>spr_bk_dom_ea</th>\n",
       "    </tr>\n",
       "    <tr>\n",
       "      <th>date</th>\n",
       "      <th></th>\n",
       "    </tr>\n",
       "  </thead>\n",
       "  <tbody>\n",
       "    <tr>\n",
       "      <th>2022Q1</th>\n",
       "      <td>1.042208</td>\n",
       "    </tr>\n",
       "    <tr>\n",
       "      <th>2022Q2</th>\n",
       "      <td>1.437589</td>\n",
       "    </tr>\n",
       "    <tr>\n",
       "      <th>2022Q3</th>\n",
       "      <td>1.722593</td>\n",
       "    </tr>\n",
       "  </tbody>\n",
       "</table>\n",
       "</div>"
      ],
      "text/plain": [
       "        spr_bk_dom_ea\n",
       "date                 \n",
       "2022Q1       1.042208\n",
       "2022Q2       1.437589\n",
       "2022Q3       1.722593"
      ]
     },
     "execution_count": 12,
     "metadata": {},
     "output_type": "execute_result"
    }
   ],
   "source": [
    "data_cs = pd.read_excel(url_file, engine='openpyxl', sheet_name='Monthly', index_col=0)[['spr_bk_dom_ea']]\n",
    "data_cs.index = pd.to_datetime(data_cs.index, format='%Ym%m')\n",
    "data_cs = data_cs \\\n",
    "            .resample('Q').mean() \\\n",
    "            .to_period() \\\n",
    "            .dropna()\n",
    "data_cs.tail(3)"
   ]
  },
  {
   "cell_type": "code",
   "execution_count": 13,
   "metadata": {},
   "outputs": [
    {
     "data": {
      "text/html": [
       "<div>\n",
       "<style scoped>\n",
       "    .dataframe tbody tr th:only-of-type {\n",
       "        vertical-align: middle;\n",
       "    }\n",
       "\n",
       "    .dataframe tbody tr th {\n",
       "        vertical-align: top;\n",
       "    }\n",
       "\n",
       "    .dataframe thead th {\n",
       "        text-align: right;\n",
       "    }\n",
       "</style>\n",
       "<table border=\"1\" class=\"dataframe\">\n",
       "  <thead>\n",
       "    <tr style=\"text-align: right;\">\n",
       "      <th></th>\n",
       "      <th>core_hicp</th>\n",
       "      <th>spf_long_mean</th>\n",
       "      <th>unemployment</th>\n",
       "      <th>nairu</th>\n",
       "      <th>p_imported</th>\n",
       "      <th>brent</th>\n",
       "      <th>spr_bk_dom_ea</th>\n",
       "    </tr>\n",
       "  </thead>\n",
       "  <tbody>\n",
       "    <tr>\n",
       "      <th>2022Q2</th>\n",
       "      <td>0.024363</td>\n",
       "      <td>2.051986</td>\n",
       "      <td>6.700000</td>\n",
       "      <td>6.882222</td>\n",
       "      <td>0.071992</td>\n",
       "      <td>113.835246</td>\n",
       "      <td>1.437589</td>\n",
       "    </tr>\n",
       "    <tr>\n",
       "      <th>2022Q3</th>\n",
       "      <td>0.008321</td>\n",
       "      <td>2.152314</td>\n",
       "      <td>6.633333</td>\n",
       "      <td>6.769818</td>\n",
       "      <td>0.042615</td>\n",
       "      <td>100.708125</td>\n",
       "      <td>1.722593</td>\n",
       "    </tr>\n",
       "    <tr>\n",
       "      <th>2022Q4</th>\n",
       "      <td>0.015695</td>\n",
       "      <td>2.175381</td>\n",
       "      <td>6.500000</td>\n",
       "      <td>6.657316</td>\n",
       "      <td>-0.006206</td>\n",
       "      <td>88.723651</td>\n",
       "      <td>NaN</td>\n",
       "    </tr>\n",
       "  </tbody>\n",
       "</table>\n",
       "</div>"
      ],
      "text/plain": [
       "        core_hicp  spf_long_mean  unemployment     nairu  p_imported  \\\n",
       "2022Q2   0.024363       2.051986      6.700000  6.882222    0.071992   \n",
       "2022Q3   0.008321       2.152314      6.633333  6.769818    0.042615   \n",
       "2022Q4   0.015695       2.175381      6.500000  6.657316   -0.006206   \n",
       "\n",
       "             brent  spr_bk_dom_ea  \n",
       "2022Q2  113.835246       1.437589  \n",
       "2022Q3  100.708125       1.722593  \n",
       "2022Q4   88.723651            NaN  "
      ]
     },
     "execution_count": 13,
     "metadata": {},
     "output_type": "execute_result"
    }
   ],
   "source": [
    "dataset_raw = data_hicp \\\n",
    "            .join(data_lte) \\\n",
    "            .join(data_unemp) \\\n",
    "            .join(data_nairu) \\\n",
    "            .join(data_imp) \\\n",
    "            .join(data_oil) \\\n",
    "            .join(data_cs)\n",
    "dataset_raw.tail(3)"
   ]
  },
  {
   "cell_type": "code",
   "execution_count": 18,
   "metadata": {},
   "outputs": [
    {
     "data": {
      "text/html": [
       "<div>\n",
       "<style scoped>\n",
       "    .dataframe tbody tr th:only-of-type {\n",
       "        vertical-align: middle;\n",
       "    }\n",
       "\n",
       "    .dataframe tbody tr th {\n",
       "        vertical-align: top;\n",
       "    }\n",
       "\n",
       "    .dataframe thead th {\n",
       "        text-align: right;\n",
       "    }\n",
       "</style>\n",
       "<table border=\"1\" class=\"dataframe\">\n",
       "  <thead>\n",
       "    <tr style=\"text-align: right;\">\n",
       "      <th></th>\n",
       "      <th>inf</th>\n",
       "      <th>inf_lag</th>\n",
       "      <th>inf_lte</th>\n",
       "      <th>labor_mkt_slack</th>\n",
       "      <th>rel_imp_price</th>\n",
       "      <th>credit_spread</th>\n",
       "    </tr>\n",
       "  </thead>\n",
       "  <tbody>\n",
       "    <tr>\n",
       "      <th>2021Q4</th>\n",
       "      <td>0.024554</td>\n",
       "      <td>0.003186</td>\n",
       "      <td>0.016562</td>\n",
       "      <td>0.726607</td>\n",
       "      <td>0.060903</td>\n",
       "      <td>1.036198</td>\n",
       "    </tr>\n",
       "    <tr>\n",
       "      <th>2022Q1</th>\n",
       "      <td>0.026747</td>\n",
       "      <td>0.012095</td>\n",
       "      <td>0.016891</td>\n",
       "      <td>0.799823</td>\n",
       "      <td>0.203301</td>\n",
       "      <td>0.879832</td>\n",
       "    </tr>\n",
       "    <tr>\n",
       "      <th>2022Q2</th>\n",
       "      <td>0.037253</td>\n",
       "      <td>0.009019</td>\n",
       "      <td>0.016842</td>\n",
       "      <td>0.740925</td>\n",
       "      <td>0.121961</td>\n",
       "      <td>0.814534</td>\n",
       "    </tr>\n",
       "    <tr>\n",
       "      <th>2022Q3</th>\n",
       "      <td>0.044170</td>\n",
       "      <td>0.014177</td>\n",
       "      <td>0.018160</td>\n",
       "      <td>0.283527</td>\n",
       "      <td>0.254041</td>\n",
       "      <td>0.846666</td>\n",
       "    </tr>\n",
       "    <tr>\n",
       "      <th>2022Q4</th>\n",
       "      <td>0.051193</td>\n",
       "      <td>0.024554</td>\n",
       "      <td>0.018986</td>\n",
       "      <td>0.027447</td>\n",
       "      <td>0.282697</td>\n",
       "      <td>0.853931</td>\n",
       "    </tr>\n",
       "  </tbody>\n",
       "</table>\n",
       "</div>"
      ],
      "text/plain": [
       "             inf   inf_lag   inf_lte  labor_mkt_slack  rel_imp_price  \\\n",
       "2021Q4  0.024554  0.003186  0.016562         0.726607       0.060903   \n",
       "2022Q1  0.026747  0.012095  0.016891         0.799823       0.203301   \n",
       "2022Q2  0.037253  0.009019  0.016842         0.740925       0.121961   \n",
       "2022Q3  0.044170  0.014177  0.018160         0.283527       0.254041   \n",
       "2022Q4  0.051193  0.024554  0.018986         0.027447       0.282697   \n",
       "\n",
       "        credit_spread  \n",
       "2021Q4       1.036198  \n",
       "2022Q1       0.879832  \n",
       "2022Q2       0.814534  \n",
       "2022Q3       0.846666  \n",
       "2022Q4       0.853931  "
      ]
     },
     "execution_count": 18,
     "metadata": {},
     "output_type": "execute_result"
    }
   ],
   "source": [
    "dataset = dataset_raw \\\n",
    "    .assign(\n",
    "        inf = lambda df_: ((1+df_['core_hicp'])**4 - 1).rolling(4).mean(),\n",
    "        inf_lag = lambda df_: df_['inf'].shift(4),\n",
    "        inf_lte = lambda df_: df_['spf_long_mean'].shift(4) / 100,\n",
    "        labor_mkt_slack = lambda df_: (df_['unemployment'] - df_['nairu']).shift(4),\n",
    "        rel_imp_price = lambda df_: (((1+df_['p_imported'])**4 - 1) - ((1+df_['core_hicp'])**4 - 1)).shift(4),\n",
    "        credit_spread = lambda df_: df_['spr_bk_dom_ea'].shift(4)\n",
    "    )[['inf', 'inf_lag', 'inf_lte', 'labor_mkt_slack', 'rel_imp_price', 'credit_spread']] \\\n",
    "    .dropna()\n",
    "\n",
    "dataset.tail()"
   ]
  },
  {
   "cell_type": "code",
   "execution_count": 19,
   "metadata": {},
   "outputs": [],
   "source": [
    "y = pd.DataFrame(dataset['inf'] - dataset['inf_lag'], columns = ['y']).values.flatten()\n",
    "X = dataset[['labor_mkt_slack', 'rel_imp_price', 'credit_spread']].copy()\n",
    "X['inf_lte-inf_lag'] = dataset['inf_lte'] - dataset['inf_lag']\n",
    "X_names = X.columns\n",
    "X = X.values"
   ]
  },
  {
   "cell_type": "code",
   "execution_count": 20,
   "metadata": {},
   "outputs": [],
   "source": [
    "quantiles = [0.05, 0.25, 0.5, 0.75, 0.95]\n",
    "\n",
    "models = {}\n",
    "\n",
    "for quantile in quantiles:\n",
    "    qr = QuantileRegressor(quantile=quantile, alpha=0, solver='highs')\n",
    "    model = qr.fit(X, y)\n",
    "    models[quantile] = model\n",
    "\n",
    "reg_coef = pd.DataFrame([models[quantile].coef_ for quantile in quantiles], columns=X_names, index=quantiles)"
   ]
  },
  {
   "cell_type": "code",
   "execution_count": 30,
   "metadata": {},
   "outputs": [
    {
     "data": {
      "text/plain": [
       "Text(0.5, 1.0, 'Inflation Expectations (LT)')"
      ]
     },
     "execution_count": 30,
     "metadata": {},
     "output_type": "execute_result"
    },
    {
     "data": {
      "image/png": "[encoded data removed]",
      "text/plain": [
       "<Figure size 640x480 with 4 Axes>"
      ]
     },
     "metadata": {},
     "output_type": "display_data"
    }
   ],
   "source": [
    "fig, axs = plt.subplots(2, 2)\n",
    "axs[0, 0].scatter(reg_coef.index, reg_coef['labor_mkt_slack'])\n",
    "axs[0, 0].set_title('Labor Market Slack')\n",
    "axs[0, 1].scatter(reg_coef.index, reg_coef['rel_imp_price'], color='orange')\n",
    "axs[0, 1].set_title('Relative Import Price')\n",
    "axs[1, 0].scatter(reg_coef.index, reg_coef['credit_spread'], color='green')\n",
    "axs[1, 0].set_title('Credit Spread')\n",
    "axs[1, 1].scatter(reg_coef.index, reg_coef['inf_lte-inf_lag'], color='red')\n",
    "axs[1, 1].set_title('Inflation Expectations (LT)')\n"
   ]
  },
  {
   "cell_type": "code",
   "execution_count": null,
   "metadata": {},
   "outputs": [],
   "source": []
  }
 ],
 "metadata": {
  "kernelspec": {
   "display_name": "venv",
   "language": "python",
   "name": "python3"
  },
  "language_info": {
   "codemirror_mode": {
    "name": "ipython",
    "version": 3
   },
   "file_extension": ".py",
   "mimetype": "text/x-python",
   "name": "python",
   "nbconvert_exporter": "python",
   "pygments_lexer": "ipython3",
   "version": "3.10.6"
  },
  "orig_nbformat": 4,
  "vscode": {
   "interpreter": {
    "hash": "12c06e8d525c6df42f72f2335889d979c3df5676d3756e0d79ea29c9590b30c7"
   }
  }
 },
 "nbformat": 4,
 "nbformat_minor": 2
}
